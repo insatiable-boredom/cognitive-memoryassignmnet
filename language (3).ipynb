{
  "nbformat": 4,
  "nbformat_minor": 0,
  "metadata": {
    "colab": {
      "provenance": []
    },
    "kernelspec": {
      "name": "python3",
      "display_name": "Python 3"
    },
    "language_info": {
      "name": "python"
    }
  },
  "cells": [
    {
      "cell_type": "markdown",
      "source": [
        "# Mechanisms of word segmentation\n",
        "In this assignment, you will implement a *statistical learning* mechanism to perform word segmentation on a stream of syllables from an artificial language. Before starting work on the assigment, you should read the following papers:\n",
        "\n",
        "- Aslin, R. N., Saffran, J. R., & Newport, E. L. (1998). Computation of conditional probability statistics by 8-month-old infants. *Psychological Science, 9*(4), 321-324. https://doi.org/10.1111/1467-9280.00063\n",
        "\n",
        "- Brent, M. R., & Cartwright, T. A. (1996). Distributional regularity and phonotactic constraints are useful for segmentation. *Cognition, 61*(1-2), 93-125.\n",
        "\n",
        "Note that all example images in this Colab notebook are just that: example images. Your data will lead to different figures and conclusions than the data used to create these examples."
      ],
      "metadata": {
        "id": "3uiLc7In5hpE"
      }
    },
    {
      "cell_type": "markdown",
      "source": [
        "## The problem\n",
        "\n",
        "Infants are exposed to language even before they are born. However, the language infants are exposed to do not contain clear information about its structure, after all what reaches the infants' ears is just one big stream of sounds. In order to learn a language, it is necessary to break down this stream of sounds into its basic structural components: words.\n",
        "\n",
        "Luckily, the infant's brain is smart enough to use what information *is* available: statistical information about transitional probabilities between syllables (and phonemes, and words, etc., but in this assignment we will focus on syllables).\n",
        "\n",
        "For example, the phrase \"pretty baby\" is probably often heard by an infant, but from the sound \"pret ty ba by\" it is not clear what the word boundaries are. After all, \"pret | ty ba by\" seems just as good as a segmentation as \"pret ty ba | by\" and \"pret ty | ba by\" or even \"pret | ty | ba | by\". However, as exposure to language increases, and words are used in different sentences, the infant learns that \"ba\" often follows \"ty\", whereas \"ba ty\" is not often heard. Syllable combinations occur more frequently within words than between words. We call this the *transitional probability*. It is defined as:\n",
        "\n",
        "$P(y|x) = \\frac{p(x,y)}{p(x)} = \\frac{\\textrm{freq}(x,y)}{\\textrm{freq}(x)}$\n",
        "\n",
        "where the probability of syllable $y$ following syllable $x$ equals the frequency of $x$ and $y$ co-occurring divided by the frequency of $x$ itself. Now we can use this information on our stream of syllables in our artificial language\n",
        "\n",
        "Let's get started!"
      ],
      "metadata": {
        "id": "ftKQxcmuCXwj"
      }
    },
    {
      "cell_type": "code",
      "source": [
        "# import libraries\n",
        "import numpy as np\n",
        "import pandas as pd\n",
        "import matplotlib.pyplot as plt"
      ],
      "metadata": {
        "id": "6Iu9T8Mr5imi"
      },
      "execution_count": null,
      "outputs": []
    },
    {
      "cell_type": "markdown",
      "source": [
        "## Part 1. Load and inspect your input data\n",
        "\n",
        "It is good practice to inspect the input data and get a feel for its contents and structure. Given that the input data is a stream of syllables, you should inspect our problem space.\n",
        "\n",
        "### Assignment 1.1\n",
        "Load the data and take a look at its contents. The input is represented as one large stream of syllables. Print the entire unsegmented input. You will need to separate each syllable before we can perform word segmentation.\n",
        "\n"
      ],
      "metadata": {
        "id": "6DpOH8DpKXcq"
      }
    },
    {
      "cell_type": "code",
      "source": [
        "!wget -qO input.txt https://surfdrive.surf.nl/files/index.php/s/dKdTYm89yqSGbsz/download\n",
        "\n",
        "with open(\"input.txt\") as f:\n",
        "    rawdata = f.read()\n",
        "\n",
        "rawdata"
      ],
      "metadata": {
        "id": "ujlxLMWlN85_",
        "colab": {
          "base_uri": "https://localhost:8080/",
          "height": 128
        },
        "outputId": "ec57bc55-c28f-4fa7-9c02-a0abe0fa0be2"
      },
      "execution_count": null,
      "outputs": [
        {
          "output_type": "execute_result",
          "data": {
            "text/plain": [
              "'lu ki bo ra ti bu do ti bu do lu ki bo ra lu ki bo ra lu ki bo ra da ro pi fe da ro pi fe lu ki bo ra da ro pi fe ti bu do ti bu do pa bi ku lu ki bo ra ti bu do ti bu do pa bi ku ti bu do lu ki bo ra po ta gu du ti bu do po ta gu du pa bi ku lu ki bo ra go la tu da ro pi fe pa bi ku lu ki bo ra lu ki bo ra lu ki bo ra pa bi ku ti bu do go la tu lu ki bo ra lu ki bo ra da ro pi fe ti bu do da ro pi fe pa bi ku lu ki bo ra lu ki bo ra ti bu do lu ki bo ra go la tu po ta gu du ti bu do pa bi ku lu ki bo ra lu ki bo ra go la tu lu ki bo ra lu ki bo ra lu ki bo ra lu ki bo ra ti bu do go la tu lu ki bo ra lu ki bo ra go la tu lu ki bo ra go la tu lu ki bo ra lu ki bo ra ti bu do go la tu lu ki bo ra ti bu do po ta gu du ti bu do po ta gu du ti bu do lu ki bo ra da ro pi fe po ta gu du ti bu do da ro pi fe po ta gu du po ta gu du la da ro pi fe lu ki bo ra lu ki bo ra lu ki bo ra pa bi ku ti bu do po ta gu du po ta gu du da ro pi fe po go la tu go la tu ti bu do po ta gu du ti bu do la lu ki bo ra lu ki bo ra ti bu do lu ki bo ra ti bu do ti bu do ti bu do po go la tu lu ki bo ra pa bi ku da ro pi fe go la tu da ro pi fe lu ki bo ra lu ki bo ra go la tu lu ki bo ra gu pa bi ku pa bi ku da ro pi fe pa bi ku ti bu do go la tu lu ki bo ra lu ki bo ra da ro pi fe go la tu lu ki bo ra go la tu ti bu do lu ki bo ra da ro pi fe lu ki bo ra lu ki bo ra po ta gu du ti bu do po ta gu du go la tu ti bu do ti bu do go la tu lu ki bo ra da ro pi fe ti bu do da ro pi fe ti bu do go la tu go la tu ti bu do po ta gu du po ta gu du pa bi ku lu ki bo ra pa bi ku da ro pi fe ti bu do lu ki bo ra pa bi ku pa bi ku ti bu do lu ki bo ra da ro pi fe lu ki bo ra ti bu do lu ki bo ra lu ki bo ra pa bi ku go la tu go la tu pa bi ku ti bu do lu ki bo ra lu ki bo ra lu ki bo ra po ta gu du lu ki bo ra lu ki bo ra pa bi ku lu ki bo ra lu ki bo ra go la tu po ta gu du go la tu go la tu lu ki bo ra lu ki bo ra pa bi ku lu ki bo ra po ta gu du ti bu do da ro pi fe po ta gu du ti bu do pa bi ku go la tu po ta gu du da ro pi fe lu ki bo ra lu ki bo ra lu ki bo ra go la tu lu ki bo ra pa bi ku pa bi ku pa bi ku po ta gu du po ta gu du ti bu do ti bu do ti bu do po ta gu du lu ki bo ra pa bi ku ti bu do ti bu do lu ki bo ra lu ki bo ra go la tu ti bu do go la tu ti bu do ti bu do lu ki bo ra ti bu do go la tu go la tu lu ki bo ra lu ki bo ra bi lu ki bo ra ti bu do pa bi ku pa bi ku pa bi ku da ro pi fe go la tu po ta gu du go la tu po lu ki bo ra go la tu lu ki bo ra go la tu pa bi ku ti bu do po ta gu du da ro pi fe ti bu do go la tu pa bi ku ti bu do da ro pi fe da ro pi fe pa bi ku po ta gu du ti bu do pa bi ku da ro pi fe ti bu do go la tu pa bi ku da ro pi fe ti bu do lu ki bo ra pa bi ku go la tu ti bu do go la tu da ro pi fe lu ki bo ra lu ki bo ra go la tu pa bi ku da ro pi fe da ro pi fe go la tu lu ki bo ra lu ki bo ra po ta gu du pa bi ku pa bi ku go la tu lu ki bo ra po ti bu do pa bi ku ti bu do lu ki bo ra po ta gu du pa bi ku go la tu pa bi ku ti bu do po ta gu du lu ki bo ra pa bi ku lu ki bo ra lu ki bo ra lu ki bo ra po ta gu du da ro pi fe ti bu do go la tu po ta gu du po ta gu du lu ki bo ra da ro pi fe ti bu do pa bi ku po ta gu du ti bu do ti bu do gu lu ki bo ra po ta gu du po ta gu du pa bi ku lu ki bo ra da ro pi fe go la tu pa bi ku ti bu do ti bu do lu ki bo ra ti bu do go la tu da ro pi fe ti bu do ti bu do go la tu lu ki bo ra lu ki bo ra ti bu do ti bu do lu ki bo ra lu ki bo ra da ro pi fe po ta gu du lu ki bo ra po pa bi ku go la tu lu ki bo ra ti bu do po ta gu du la po ta gu du ti bu do po ta gu du go la tu ti bu do ti bu do pa bi ku da ro pi fe lu ki bo ra go la tu lu ki bo ra lu ki bo ra go la tu pa bi ku lu ki bo ra lu ki bo ra ti bu do lu ki bo ra gu go la tu ti bu do pa bi ku gu po ta gu du lu ki bo ra po ta gu du lu ki bo ra go la tu ti bu do lu ki bo ra lu ki bo ra lu ki bo ra lu ki bo ra lu ki bo ra ti bu do ti bu do lu ki bo ra lu ki bo ra pa bi ku go la tu po ta gu du go la tu ti bu do ti bu do go la tu ti bu do lu ki bo ra pa bi ku ti bu do go la tu go la tu lu ki bo ra ti bu do da ro pi fe lu ki bo ra ti bu do go la tu ti bu do da ro pi fe go la tu go la tu pa bi ku go la tu ti bu do pa bi ku go la tu pa bi ku lu ki bo ra ti bu do da ro pi fe po ta gu du lu ki bo ra ti bu do po ta gu du po ta gu du pa bi ku ti bu do bi ti bu do lu ki bo ra go la tu lu ki bo ra ti bu do bi lu ki bo ra lu ki bo ra ti bu do po ta gu du lu ki bo ra lu ki bo ra pa bi ku go la tu da ro pi fe go la tu lu ki bo ra ti bu do ti bu do go la tu ti bu do ti bu do da ro pi fe ti bu do pa bi ku ti bu do ti bu do ti bu do po ta gu du lu ki bo ra lu ki bo ra lu ki bo ra po ta gu du ti bu do lu ki bo ra ti bu do ti bu do da ro pi fe da ro pi fe go la tu lu ki bo ra go la tu lu ki bo ra go la tu da ro pi fe ti bu do lu ki bo ra lu ki bo ra pa bi ku ti bu do ti bu do go la tu da ro pi fe ti bu do bi da ro pi fe go la tu ti bu do ti bu do da ro pi fe po ta gu du go la tu la ti bu do da ro pi fe lu ki bo ra ti bu do lu ki bo ra ti bu do ti bu do pa bi ku pa bi ku pa bi ku ti bu do da ro pi fe lu ki bo ra lu ki bo ra lu ki bo ra ti bu do po ta gu du lu ki bo ra pa bi ku ti bu do pa bi ku ti bu do lu ki bo ra lu ki bo ra go la tu po ta gu du go la tu ti bu do go la tu lu ki bo ra po ta gu du po ta gu du go la tu ti bu do pa bi ku da ro pi fe ti bu do da ro pi fe lu ki bo ra ti bu do go la tu da ro pi fe gu pa bi ku ti bu do lu ki bo ra ti bu do pa bi ku go la tu gu gu ti bu do po ta gu du ti bu do pa bi ku pa bi ku go la tu go la tu lu ki bo ra po ta gu du ti bu do pa bi ku ti bu do po ta gu du ti bu do lu ki bo ra po ta gu du lu ki bo ra lu ki bo ra po ta gu du pa bi ku ti bu do ti bu do po lu ki bo ra la go la tu lu ki bo ra go la tu da ro pi fe lu ki bo ra lu ki bo ra da ro pi fe po ta gu du ti bu do lu ki bo ra lu ki bo ra da ro pi fe da ro pi fe lu ki bo ra da ro pi fe lu ki bo ra lu ki bo ra po ta gu du po ta gu du po ta gu du go la tu la da ro pi fe lu ki bo ra lu ki bo ra lu ki bo ra ti bu do lu ki bo ra ti bu do ti bu do lu ki bo ra pa bi ku lu ki bo ra go la tu ti bu do po ta gu du ti bu do ti bu do lu ki bo ra po ta gu du pa bi ku ti bu do ti bu do lu ki bo ra po ta gu du go la tu da ro pi fe po ta gu du go la tu ti bu do ti bu do pa bi ku pa bi ku pa bi ku lu ki bo ra ti bu do go la tu go la tu po ta gu du lu ki bo ra pa bi ku ti bu do lu ki bo ra pa bi ku pa bi ku ti bu do go la tu pa bi ku da ro pi fe lu ki bo ra lu ki bo ra gu da ro pi fe pa bi ku da ro pi fe da ro pi fe ti bu do go la tu da ro pi fe po ta gu du ti bu do pa bi ku lu ki bo ra da ro pi fe ti bu do ti bu do da ro pi fe go la tu ti bu do ti bu do ti bu do ti bu do ti bu do pa bi ku ti bu do pa bi ku po ta gu du da ro pi fe lu ki bo ra po ta gu du lu ki bo ra go la tu ti bu do ti bu do ti bu do lu ki bo ra po ta gu du go la tu po ta gu du pa bi ku ti bu do go la tu ti bu do po ta gu du po ta gu du da ro pi fe pa bi ku pa bi ku go la tu po ta gu du lu ki bo ra lu ki bo ra lu ki bo ra go la tu go la tu lu ki bo ra ti bu do go la tu pa bi ku ti bu do ti bu do lu ki bo ra lu ki bo ra da ro pi fe ti bu do lu ki bo ra ti bu do ti bu do po ta gu du lu ki bo ra go la tu po da ro pi fe po ta gu du po ta gu du lu ki bo ra lu ki bo ra lu ki bo ra ti bu do lu ki bo ra lu ki bo ra ti bu do po ta gu du lu ki bo ra lu ki bo ra go la tu pa bi ku po po ta gu du da ro pi fe ti bu do ti bu do da ro pi fe ti bu do pa bi ku lu ki bo ra po ta gu du po ta gu du da ro pi fe ti bu do da ro pi fe pa bi ku go la tu da ro pi fe ti bu do pa bi ku lu ki bo ra da ro pi fe ti bu do da ro pi fe lu ki bo ra lu ki bo ra po ta gu du ti bu do go la tu lu ki bo ra po ta gu du ti bu do po ta gu du lu ki bo ra po ta gu du ti bu do po ta gu du ti bu do lu ki bo ra pa bi ku po ta gu du ti bu do go la tu ti bu do go la tu da ro pi fe pa bi ku lu ki bo ra go la tu lu ki bo ra lu ki bo ra go la tu da ro pi fe pa bi ku da ro pi fe go la tu lu ki bo ra ti bu do da ro pi fe pa bi ku da ro pi fe ti bu do da ro pi fe go la tu po ta gu du pa bi ku lu ki bo ra ti bu do lu ki bo ra ti bu do po ta gu du pa bi ku po ta gu du lu ki bo ra pa bi ku lu ki bo ra po ta gu du po ta gu du go la tu da ro pi fe da ro pi fe ti bu do ti bu do lu ki bo ra ti bu do ti bu do ti bu do po ta gu du pa bi ku da ro pi fe lu ki bo ra ti bu do lu ki bo ra ti bu do da ro pi fe bi pa bi ku ti bu do ti bu do go la tu ti bu do po ta gu du pa bi ku lu ki bo ra go la tu ti bu do go la tu lu ki bo ra lu ki bo ra pa bi ku ti bu do lu ki bo ra po go la tu ti bu do po ta gu du go la tu pa bi ku lu ki bo ra lu ki bo ra ti bu do lu ki bo ra go la tu lu ki bo ra pa bi ku ti bu do pa bi ku ti bu do po ta gu du go la tu da ro pi fe da ro pi fe ti bu do ti bu do pa bi ku go la tu pa bi ku pa bi ku ti bu do da ro pi fe go la tu po ta gu du po ta gu du lu ki bo ra lu ki bo ra ti bu do go la tu pa bi ku pa bi ku go la tu pa bi ku po ta gu du ti bu do go la tu da ro pi fe lu ki bo ra lu ki bo ra go la tu ti bu do ti bu do lu ki bo ra da ro pi fe lu ki bo ra lu ki bo ra pa bi ku lu ki bo ra po ta gu du ti bu do da ro pi fe lu ki bo ra po ta gu du go la tu go la tu pa bi ku go la tu po ta gu du ti bu do go la tu lu ki bo ra pa bi ku go la tu ti bu do lu ki bo ra lu ki bo ra da ro pi fe lu ki bo ra pa bi ku da ro pi fe go la tu po ta gu du go la tu po ta gu du po ta gu du lu ki bo ra da ro pi fe ti bu do po ta gu du da ro pi fe pa bi ku da ro pi fe po ta gu du po ta gu du da ro pi fe pa bi ku go la tu ti bu do lu ki bo ra lu ki bo ra go la tu po ta gu du ti bu do go la tu pa bi ku da ro pi fe lu ki bo ra lu ki bo ra go la tu da ro pi fe ti bu do ti bu do po ta gu du ti bu do da ro pi fe ti bu do go la tu ti bu do da ro pi fe ti bu do ti bu do da ro pi fe pa bi ku da ro pi fe lu ki bo ra ti bu do lu ki bo ra ti bu do ti bu do go la tu pa bi ku lu ki bo ra ti bu do pa bi ku lu ki bo ra ti bu do ti bu do pa bi ku ti bu do po ta gu du po ta gu du ti bu do pa bi ku ti bu do ti bu do lu ki bo ra da ro pi fe po ta gu du po ta gu du ti bu do da ro pi fe lu ki bo ra po ta gu du ti bu do ti bu do ti bu do go la tu pa bi ku da ro pi fe po pa bi ku po po ta gu du pa bi ku ti bu do lu ki bo ra go la tu go la tu go la tu da ro pi fe ti bu do ti bu do go la tu ti bu do go la tu pa bi ku '"
            ],
            "application/vnd.google.colaboratory.intrinsic+json": {
              "type": "string"
            }
          },
          "metadata": {},
          "execution_count": 10
        }
      ]
    },
    {
      "cell_type": "markdown",
      "source": [
        "### Assignment 1.2\n",
        "\n",
        "Now, create a plot of all syllables in the input and their frequencies. It should look similar to this: <figure>\n",
        "      <img src=\"https://surfdrive.surf.nl/files/index.php/s/I01fE2vrpyrBfHx/download\" alt=\"Frequency plot\" style=\"width:400pt\">\n",
        "      </figure>"
      ],
      "metadata": {
        "id": "67rJJWrBgA3y"
      }
    },
    {
      "cell_type": "code",
      "source": [
        "syllables = rawdata.split()\n",
        "syllable_counts = pd.Series(syllables).value_counts()\n",
        "syllable_counts = syllable_counts.sort_index(ascending=False)\n",
        "\n",
        "syllable_counts.plot(kind='barh')"
      ],
      "metadata": {
        "id": "vXhvDW_cWqem",
        "colab": {
          "base_uri": "https://localhost:8080/",
          "height": 448
        },
        "outputId": "b97f4f15-5dce-4507-86ea-5a84ae0cc8f4"
      },
      "execution_count": null,
      "outputs": [
        {
          "output_type": "execute_result",
          "data": {
            "text/plain": [
              "<Axes: >"
            ]
          },
          "metadata": {},
          "execution_count": 11
        },
        {
          "output_type": "display_data",
          "data": {
            "text/plain": [
              "<Figure size 640x480 with 1 Axes>"
            ],
            "image/png": "[encoded data removed]"
          },
          "metadata": {}
        }
      ]
    },
    {
      "cell_type": "markdown",
      "source": [
        "## Part 2. Transitional probabilities\n",
        "\n",
        "Now that you have a good feel for the data, you can start looking at the transitional probabilities between syllables. Remember the definition of the transitional probability:\n",
        "\n",
        "$P(y|x) = \\frac{p(x,y)}{p(x)} = \\frac{\\textrm{freq}(x,y)}{\\textrm{freq}(x)}$\n",
        "\n",
        "which makes it clear that you need to do something with the frequencies of the syllables.\n",
        "\n",
        "### Assignment 2.1\n",
        "\n",
        "You will need to calculate $P(y|x)$ for each co-occurrence of syllables in the input stream. Define a function that takes as an input the stream of syllables, and outputs a data structure containing the transitional probabilities. Then run that function using the stream of syllables."
      ],
      "metadata": {
        "id": "KQI1Rw8jehHR"
      }
    },
    {
      "cell_type": "code",
      "source": [
        "# def transitional_probabilities(syllables):\n",
        "#   transitions = {}\n",
        "#   counter = {}\n",
        "\n",
        "#   for i in range(len(syllables) - 1):\n",
        "#       curr_syllable, next_syllable = syllables[i], syllables[i + 1]\n",
        "#       if curr_syllable not in transitions:\n",
        "#           transitions[curr_syllable] = {}\n",
        "#           counter[curr_syllable] = 0\n",
        "#       if next_syllable not in transitions[curr_syllable]:\n",
        "#           transitions[curr_syllable][next_syllable] = 0\n",
        "#       transitions[curr_syllable][next_syllable] += 1\n",
        "#       counter[curr_syllable] += 1\n",
        "\n",
        "#   for curr_syllable in transitions:\n",
        "#       for next_syllable in transitions[curr_syllable]:\n",
        "#           transitions[curr_syllable][next_syllable] /= counter[curr_syllable]\n",
        "\n",
        "#   return transitions\n",
        "def transitional_probabilities(syllables):\n",
        "  transitions = {syllable: {} for syllable in set(syllables)}\n",
        "  counter = {syllable: 0 for syllable in set(syllables)}\n",
        "\n",
        "  for i in range(len(syllables) - 1):\n",
        "      curr_syllable, next_syllable = syllables[i], syllables[i + 1]\n",
        "      transitions[curr_syllable][next_syllable] = transitions[curr_syllable].get(next_syllable, 0) + 1\n",
        "      counter[curr_syllable] += 1\n",
        "\n",
        "  for curr_syllable in transitions:\n",
        "      for next_syllable in transitions[curr_syllable]:\n",
        "          transitions[curr_syllable][next_syllable] /= counter[curr_syllable]\n",
        "\n",
        "  return transitions\n",
        "\n",
        "probability_matrix = transitional_probabilities(syllables)"
      ],
      "metadata": {
        "id": "Zr_aa_rljxDV"
      },
      "execution_count": null,
      "outputs": []
    },
    {
      "cell_type": "markdown",
      "source": [
        "### Assignment 2.2\n",
        "\n",
        "You should now print the transitional probabilities for each co-occurring pair of syllables. The output should take the form of\n",
        "\n",
        "```\n",
        "Transition from 'do' to 'lu': 0.33\n",
        "```\n",
        "\n",
        "Print each combination on a separate line.\n"
      ],
      "metadata": {
        "id": "BR-sprbUj0Vf"
      }
    },
    {
      "cell_type": "code",
      "source": [
        "for first_syllable in probability_matrix:\n",
        "    for second_syllable in probability_matrix[first_syllable]:\n",
        "        print(f\"Transition from '{first_syllable}' to '{second_syllable}': {probability_matrix[first_syllable][second_syllable]}\")"
      ],
      "metadata": {
        "id": "fvGq-_d4kcWC",
        "colab": {
          "base_uri": "https://localhost:8080/"
        },
        "outputId": "2433ea25-d111-4c2f-c9fd-2371c62ab5f2",
        "collapsed": true
      },
      "execution_count": null,
      "outputs": [
        {
          "output_type": "stream",
          "name": "stdout",
          "text": [
            "Transition from 'du' to 'ti': 0.28205128205128205\n",
            "Transition from 'du' to 'pa': 0.11965811965811966\n",
            "Transition from 'du' to 'po': 0.1623931623931624\n",
            "Transition from 'du' to 'la': 0.017094017094017096\n",
            "Transition from 'du' to 'da': 0.08547008547008547\n",
            "Transition from 'du' to 'go': 0.1452991452991453\n",
            "Transition from 'du' to 'lu': 0.18803418803418803\n",
            "Transition from 'la' to 'tu': 0.9594594594594594\n",
            "Transition from 'la' to 'da': 0.013513513513513514\n",
            "Transition from 'la' to 'lu': 0.006756756756756757\n",
            "Transition from 'la' to 'po': 0.006756756756756757\n",
            "Transition from 'la' to 'ti': 0.006756756756756757\n",
            "Transition from 'la' to 'go': 0.006756756756756757\n",
            "Transition from 'ro' to 'pi': 1.0\n",
            "Transition from 'ta' to 'gu': 1.0\n",
            "Transition from 'bo' to 'ra': 1.0\n",
            "Transition from 'gu' to 'du': 0.936\n",
            "Transition from 'gu' to 'pa': 0.016\n",
            "Transition from 'gu' to 'lu': 0.008\n",
            "Transition from 'gu' to 'go': 0.008\n",
            "Transition from 'gu' to 'po': 0.008\n",
            "Transition from 'gu' to 'gu': 0.008\n",
            "Transition from 'gu' to 'ti': 0.008\n",
            "Transition from 'gu' to 'da': 0.008\n",
            "Transition from 'do' to 'ti': 0.226890756302521\n",
            "Transition from 'do' to 'lu': 0.20588235294117646\n",
            "Transition from 'do' to 'pa': 0.12184873949579832\n",
            "Transition from 'do' to 'po': 0.14285714285714285\n",
            "Transition from 'do' to 'go': 0.16806722689075632\n",
            "Transition from 'do' to 'da': 0.1134453781512605\n",
            "Transition from 'do' to 'la': 0.004201680672268907\n",
            "Transition from 'do' to 'gu': 0.004201680672268907\n",
            "Transition from 'do' to 'bi': 0.012605042016806723\n",
            "Transition from 'ki' to 'bo': 1.0\n",
            "Transition from 'ku' to 'lu': 0.2\n",
            "Transition from 'ku' to 'ti': 0.288\n",
            "Transition from 'ku' to 'da': 0.152\n",
            "Transition from 'ku' to 'pa': 0.128\n",
            "Transition from 'ku' to 'go': 0.152\n",
            "Transition from 'ku' to 'po': 0.072\n",
            "Transition from 'ku' to 'gu': 0.008\n",
            "Transition from 'fe' to 'da': 0.07339449541284404\n",
            "Transition from 'fe' to 'lu': 0.24770642201834864\n",
            "Transition from 'fe' to 'ti': 0.28440366972477066\n",
            "Transition from 'fe' to 'pa': 0.11926605504587157\n",
            "Transition from 'fe' to 'po': 0.12844036697247707\n",
            "Transition from 'fe' to 'go': 0.12844036697247707\n",
            "Transition from 'fe' to 'gu': 0.009174311926605505\n",
            "Transition from 'fe' to 'bi': 0.009174311926605505\n",
            "Transition from 'ti' to 'bu': 1.0\n",
            "Transition from 'tu' to 'da': 0.13380281690140844\n",
            "Transition from 'tu' to 'lu': 0.24647887323943662\n",
            "Transition from 'tu' to 'po': 0.1267605633802817\n",
            "Transition from 'tu' to 'go': 0.09154929577464789\n",
            "Transition from 'tu' to 'ti': 0.22535211267605634\n",
            "Transition from 'tu' to 'pa': 0.15492957746478872\n",
            "Transition from 'tu' to 'la': 0.014084507042253521\n",
            "Transition from 'tu' to 'gu': 0.007042253521126761\n",
            "Transition from 'pi' to 'fe': 1.0\n",
            "Transition from 'pa' to 'bi': 1.0\n",
            "Transition from 'bi' to 'ku': 0.9618320610687023\n",
            "Transition from 'bi' to 'lu': 0.015267175572519083\n",
            "Transition from 'bi' to 'ti': 0.007633587786259542\n",
            "Transition from 'bi' to 'da': 0.007633587786259542\n",
            "Transition from 'bi' to 'pa': 0.007633587786259542\n",
            "Transition from 'lu' to 'ki': 1.0\n",
            "Transition from 'po' to 'ta': 0.9140625\n",
            "Transition from 'po' to 'go': 0.0234375\n",
            "Transition from 'po' to 'lu': 0.015625\n",
            "Transition from 'po' to 'ti': 0.0078125\n",
            "Transition from 'po' to 'pa': 0.015625\n",
            "Transition from 'po' to 'da': 0.0078125\n",
            "Transition from 'po' to 'po': 0.015625\n",
            "Transition from 'go' to 'la': 1.0\n",
            "Transition from 'bu' to 'do': 1.0\n",
            "Transition from 'da' to 'ro': 1.0\n",
            "Transition from 'ra' to 'ti': 0.20168067226890757\n",
            "Transition from 'ra' to 'lu': 0.3067226890756303\n",
            "Transition from 'ra' to 'da': 0.08823529411764706\n",
            "Transition from 'ra' to 'po': 0.12605042016806722\n",
            "Transition from 'ra' to 'go': 0.14285714285714285\n",
            "Transition from 'ra' to 'pa': 0.1134453781512605\n",
            "Transition from 'ra' to 'gu': 0.012605042016806723\n",
            "Transition from 'ra' to 'bi': 0.004201680672268907\n",
            "Transition from 'ra' to 'la': 0.004201680672268907\n"
          ]
        }
      ]
    },
    {
      "cell_type": "markdown",
      "source": [
        "## Part 3. Performing word segmentation\n",
        "\n",
        "Now that you have all necessary transitional probabilities, you can start word segmentation on the original input.\n",
        "\n",
        "### Assignment 3.1\n",
        "Start by plotting the transitional probabilities for the first 30 syllables in the input. This should look similar to this:\n",
        "\n",
        "<figure>\n",
        "      <img src=\"https://surfdrive.surf.nl/files/index.php/s/ktO0iSQZ9X7Oc12/download\" alt=\"Random walk\" style=\"width:400pt\">\n",
        "      </figure>"
      ],
      "metadata": {
        "id": "lXQ70ymMelBr"
      }
    },
    {
      "cell_type": "code",
      "source": [
        "xlabels = syllables[1:30] #\n",
        "xpoints = range(29) #\n",
        "ypoints = np.array(np.zeros(29)) #\n",
        "\n",
        "for n in range(0,29):\n",
        "  ypoints[n] = probability_matrix[syllables[n]][syllables[n+1]]\n",
        "\n",
        "plt.plot(xpoints, ypoints)\n",
        "plt.xticks(ticks=xpoints, labels=xlabels)\n",
        "\n",
        "plt.show()"
      ],
      "metadata": {
        "id": "RbYR-OVWrSMc",
        "colab": {
          "base_uri": "https://localhost:8080/",
          "height": 430
        },
        "outputId": "bbac288f-be72-429c-9e87-11fbd4745bc7"
      },
      "execution_count": null,
      "outputs": [
        {
          "output_type": "display_data",
          "data": {
            "text/plain": [
              "<Figure size 640x480 with 1 Axes>"
            ],
            "image/png": "[encoded data removed]"
          },
          "metadata": {}
        }
      ]
    },
    {
      "cell_type": "markdown",
      "source": [
        "This is enough information for you to segment the complete input.\n",
        "\n",
        "### Assignment 3.2\n",
        "Write a function that takes as an input the original input (stream of syllables) and outputs all unique words of at least two syllables. Now print all unique words of at least two syllables, each word on its own line. The output should take the form of:\n",
        "\n",
        "```\n",
        "di ru po\n",
        "du ba\n",
        "lu si be\n",
        "```\n",
        "\n"
      ],
      "metadata": {
        "id": "l94G4qMEwfe-"
      }
    },
    {
      "cell_type": "code",
      "source": [
        "def return_unique_words(data, threshold):\n",
        "  syllables = np.array(data.split())\n",
        "  unique_words = set()\n",
        "  word = [syllables[0]]\n",
        "\n",
        "  for n in range(len(syllables)-1):\n",
        "    syl = syllables[n]\n",
        "    new_syl = syllables[n+1]\n",
        "\n",
        "    if probability_matrix[syl][new_syl] > threshold:\n",
        "      word.append(new_syl)\n",
        "    else:\n",
        "      unique_words.add(tuple(word))\n",
        "      word = [new_syl]\n",
        "\n",
        "  unique_words.add(tuple(word))\n",
        "  unique_words = [x for x in unique_words if len(x)>1]\n",
        "  return unique_words\n",
        "\n",
        "for w in return_unique_words(rawdata,  0.4):\n",
        "  print(' '.join(w))"
      ],
      "metadata": {
        "id": "QzD6GA117jTV",
        "colab": {
          "base_uri": "https://localhost:8080/"
        },
        "outputId": "27ddd833-1d88-42d2-81e7-17e47d12abdc"
      },
      "execution_count": null,
      "outputs": [
        {
          "output_type": "stream",
          "name": "stdout",
          "text": [
            "lu ki bo ra\n",
            "po ta gu du\n",
            "go la tu\n",
            "da ro pi fe\n",
            "ti bu do\n",
            "pa bi ku\n"
          ]
        }
      ]
    },
    {
      "cell_type": "markdown",
      "source": [
        "### Assignment 3.3\n",
        "Now that you have identified the words in the input stream, it is time to perform word segmentation on the entire input. You will output the segmented input stream to a text file `output.txt`. The input stream took the form of an unsegmented stream of syllables such as `di ru pa bo pu bi re di ru pa bo do lo mu...`. Now you will create an output that is segmented, taking the form of `dirupabo pubire dirupabo dolomu...`. The output file should not contain any line breaks."
      ],
      "metadata": {
        "id": "m7L26YbkWKTn"
      }
    },
    {
      "cell_type": "code",
      "source": [
        "def process_output(data):\n",
        "  words = return_unique_words(data, 0.4)\n",
        "  for w in words:\n",
        "    data = data.replace(' '.join(w), ''.join(w))\n",
        "  return data\n",
        "\n",
        "with open(\"output.txt\", \"w\") as f:\n",
        "  f.write(process_output(rawdata))\n",
        "print(process_output(rawdata))"
      ],
      "metadata": {
        "id": "s9hvtEl1ZpIE",
        "colab": {
          "base_uri": "https://localhost:8080/"
        },
        "outputId": "3c421297-9a54-418f-d1da-278e217409e3"
      },
      "execution_count": null,
      "outputs": [
        {
          "output_type": "stream",
          "name": "stdout",
          "text": [
            "lukibora tibudo tibudo lukibora lukibora lukibora daropife daropife lukibora daropife tibudo tibudo pabiku lukibora tibudo tibudo pabiku tibudo lukibora potagudu tibudo potagudu pabiku lukibora golatu daropife pabiku lukibora lukibora lukibora pabiku tibudo golatu lukibora lukibora daropife tibudo daropife pabiku lukibora lukibora tibudo lukibora golatu potagudu tibudo pabiku lukibora lukibora golatu lukibora lukibora lukibora lukibora tibudo golatu lukibora lukibora golatu lukibora golatu lukibora lukibora tibudo golatu lukibora tibudo potagudu tibudo potagudu tibudo lukibora daropife potagudu tibudo daropife potagudu potagudu la daropife lukibora lukibora lukibora pabiku tibudo potagudu potagudu daropife po golatu golatu tibudo potagudu tibudo la lukibora lukibora tibudo lukibora tibudo tibudo tibudo po golatu lukibora pabiku daropife golatu daropife lukibora lukibora golatu lukibora gu pabiku pabiku daropife pabiku tibudo golatu lukibora lukibora daropife golatu lukibora golatu tibudo lukibora daropife lukibora lukibora potagudu tibudo potagudu golatu tibudo tibudo golatu lukibora daropife tibudo daropife tibudo golatu golatu tibudo potagudu potagudu pabiku lukibora pabiku daropife tibudo lukibora pabiku pabiku tibudo lukibora daropife lukibora tibudo lukibora lukibora pabiku golatu golatu pabiku tibudo lukibora lukibora lukibora potagudu lukibora lukibora pabiku lukibora lukibora golatu potagudu golatu golatu lukibora lukibora pabiku lukibora potagudu tibudo daropife potagudu tibudo pabiku golatu potagudu daropife lukibora lukibora lukibora golatu lukibora pabiku pabiku pabiku potagudu potagudu tibudo tibudo tibudo potagudu lukibora pabiku tibudo tibudo lukibora lukibora golatu tibudo golatu tibudo tibudo lukibora tibudo golatu golatu lukibora lukibora bi lukibora tibudo pabiku pabiku pabiku daropife golatu potagudu golatu po lukibora golatu lukibora golatu pabiku tibudo potagudu daropife tibudo golatu pabiku tibudo daropife daropife pabiku potagudu tibudo pabiku daropife tibudo golatu pabiku daropife tibudo lukibora pabiku golatu tibudo golatu daropife lukibora lukibora golatu pabiku daropife daropife golatu lukibora lukibora potagudu pabiku pabiku golatu lukibora po tibudo pabiku tibudo lukibora potagudu pabiku golatu pabiku tibudo potagudu lukibora pabiku lukibora lukibora lukibora potagudu daropife tibudo golatu potagudu potagudu lukibora daropife tibudo pabiku potagudu tibudo tibudo gu lukibora potagudu potagudu pabiku lukibora daropife golatu pabiku tibudo tibudo lukibora tibudo golatu daropife tibudo tibudo golatu lukibora lukibora tibudo tibudo lukibora lukibora daropife potagudu lukibora po pabiku golatu lukibora tibudo potagudu la potagudu tibudo potagudu golatu tibudo tibudo pabiku daropife lukibora golatu lukibora lukibora golatu pabiku lukibora lukibora tibudo lukibora gu golatu tibudo pabiku gu potagudu lukibora potagudu lukibora golatu tibudo lukibora lukibora lukibora lukibora lukibora tibudo tibudo lukibora lukibora pabiku golatu potagudu golatu tibudo tibudo golatu tibudo lukibora pabiku tibudo golatu golatu lukibora tibudo daropife lukibora tibudo golatu tibudo daropife golatu golatu pabiku golatu tibudo pabiku golatu pabiku lukibora tibudo daropife potagudu lukibora tibudo potagudu potagudu pabiku tibudo bi tibudo lukibora golatu lukibora tibudo bi lukibora lukibora tibudo potagudu lukibora lukibora pabiku golatu daropife golatu lukibora tibudo tibudo golatu tibudo tibudo daropife tibudo pabiku tibudo tibudo tibudo potagudu lukibora lukibora lukibora potagudu tibudo lukibora tibudo tibudo daropife daropife golatu lukibora golatu lukibora golatu daropife tibudo lukibora lukibora pabiku tibudo tibudo golatu daropife tibudo bi daropife golatu tibudo tibudo daropife potagudu golatu la tibudo daropife lukibora tibudo lukibora tibudo tibudo pabiku pabiku pabiku tibudo daropife lukibora lukibora lukibora tibudo potagudu lukibora pabiku tibudo pabiku tibudo lukibora lukibora golatu potagudu golatu tibudo golatu lukibora potagudu potagudu golatu tibudo pabiku daropife tibudo daropife lukibora tibudo golatu daropife gu pabiku tibudo lukibora tibudo pabiku golatu gu gu tibudo potagudu tibudo pabiku pabiku golatu golatu lukibora potagudu tibudo pabiku tibudo potagudu tibudo lukibora potagudu lukibora lukibora potagudu pabiku tibudo tibudo po lukibora la golatu lukibora golatu daropife lukibora lukibora daropife potagudu tibudo lukibora lukibora daropife daropife lukibora daropife lukibora lukibora potagudu potagudu potagudu golatu la daropife lukibora lukibora lukibora tibudo lukibora tibudo tibudo lukibora pabiku lukibora golatu tibudo potagudu tibudo tibudo lukibora potagudu pabiku tibudo tibudo lukibora potagudu golatu daropife potagudu golatu tibudo tibudo pabiku pabiku pabiku lukibora tibudo golatu golatu potagudu lukibora pabiku tibudo lukibora pabiku pabiku tibudo golatu pabiku daropife lukibora lukibora gu daropife pabiku daropife daropife tibudo golatu daropife potagudu tibudo pabiku lukibora daropife tibudo tibudo daropife golatu tibudo tibudo tibudo tibudo tibudo pabiku tibudo pabiku potagudu daropife lukibora potagudu lukibora golatu tibudo tibudo tibudo lukibora potagudu golatu potagudu pabiku tibudo golatu tibudo potagudu potagudu daropife pabiku pabiku golatu potagudu lukibora lukibora lukibora golatu golatu lukibora tibudo golatu pabiku tibudo tibudo lukibora lukibora daropife tibudo lukibora tibudo tibudo potagudu lukibora golatu po daropife potagudu potagudu lukibora lukibora lukibora tibudo lukibora lukibora tibudo potagudu lukibora lukibora golatu pabiku po potagudu daropife tibudo tibudo daropife tibudo pabiku lukibora potagudu potagudu daropife tibudo daropife pabiku golatu daropife tibudo pabiku lukibora daropife tibudo daropife lukibora lukibora potagudu tibudo golatu lukibora potagudu tibudo potagudu lukibora potagudu tibudo potagudu tibudo lukibora pabiku potagudu tibudo golatu tibudo golatu daropife pabiku lukibora golatu lukibora lukibora golatu daropife pabiku daropife golatu lukibora tibudo daropife pabiku daropife tibudo daropife golatu potagudu pabiku lukibora tibudo lukibora tibudo potagudu pabiku potagudu lukibora pabiku lukibora potagudu potagudu golatu daropife daropife tibudo tibudo lukibora tibudo tibudo tibudo potagudu pabiku daropife lukibora tibudo lukibora tibudo daropife bi pabiku tibudo tibudo golatu tibudo potagudu pabiku lukibora golatu tibudo golatu lukibora lukibora pabiku tibudo lukibora po golatu tibudo potagudu golatu pabiku lukibora lukibora tibudo lukibora golatu lukibora pabiku tibudo pabiku tibudo potagudu golatu daropife daropife tibudo tibudo pabiku golatu pabiku pabiku tibudo daropife golatu potagudu potagudu lukibora lukibora tibudo golatu pabiku pabiku golatu pabiku potagudu tibudo golatu daropife lukibora lukibora golatu tibudo tibudo lukibora daropife lukibora lukibora pabiku lukibora potagudu tibudo daropife lukibora potagudu golatu golatu pabiku golatu potagudu tibudo golatu lukibora pabiku golatu tibudo lukibora lukibora daropife lukibora pabiku daropife golatu potagudu golatu potagudu potagudu lukibora daropife tibudo potagudu daropife pabiku daropife potagudu potagudu daropife pabiku golatu tibudo lukibora lukibora golatu potagudu tibudo golatu pabiku daropife lukibora lukibora golatu daropife tibudo tibudo potagudu tibudo daropife tibudo golatu tibudo daropife tibudo tibudo daropife pabiku daropife lukibora tibudo lukibora tibudo tibudo golatu pabiku lukibora tibudo pabiku lukibora tibudo tibudo pabiku tibudo potagudu potagudu tibudo pabiku tibudo tibudo lukibora daropife potagudu potagudu tibudo daropife lukibora potagudu tibudo tibudo tibudo golatu pabiku daropife po pabiku po potagudu pabiku tibudo lukibora golatu golatu golatu daropife tibudo tibudo golatu tibudo golatu pabiku \n"
          ]
        }
      ]
    },
    {
      "cell_type": "markdown",
      "source": [
        "# Conclusion\n",
        "\n",
        "That's it! You have now used transitional probabilities learned from language exposure to perform word segmentation, just like infants do."
      ],
      "metadata": {
        "id": "qly6NDPPaE1L"
      }
    },
    {
      "cell_type": "code",
      "source": [],
      "metadata": {
        "id": "8PStfYmxRRdy"
      },
      "execution_count": null,
      "outputs": []
    }
  ]
}